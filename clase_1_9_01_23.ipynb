{
  "nbformat": 4,
  "nbformat_minor": 0,
  "metadata": {
    "colab": {
      "provenance": [],
      "toc_visible": true,
      "authorship_tag": "ABX9TyOJzotR+8Ji9OmwYEYm7oQJ",
      "include_colab_link": true
    },
    "kernelspec": {
      "name": "python3",
      "display_name": "Python 3"
    },
    "language_info": {
      "name": "python"
    }
  },
  "cells": [
    {
      "cell_type": "markdown",
      "metadata": {
        "id": "view-in-github",
        "colab_type": "text"
      },
      "source": [
        "<a href=\"https://colab.research.google.com/github/JuanJT117/Clase-de-aprendizaje-automatico/blob/main/clase_1_9_01_23.ipynb\" target=\"_parent\"><img src=\"https://colab.research.google.com/assets/colab-badge.svg\" alt=\"Open In Colab\"/></a>"
      ]
    },
    {
      "cell_type": "markdown",
      "source": [
        "#Clase 1 \n",
        "\n",
        "## UANL | MCD | Aprendizaje Automatico"
      ],
      "metadata": {
        "id": "j7uFgYokWWbV"
      }
    },
    {
      "cell_type": "markdown",
      "source": [
        "# introduccion a phyton\n"
      ],
      "metadata": {
        "id": "ipx73hDzl-Ap"
      }
    },
    {
      "cell_type": "markdown",
      "source": [
        "### ¿Que es Phyton?\n",
        "\n",
        "Python es un lenguaje de programaqcion ampliamente ultilizado en las aplicaciones web, en el desarrollo de software, en la CIENCIA DE DATOS, debido a su eficiencia, facilidad, es gratuito y ademas de que es facil de aprender, ya que su sintaxis facilita la comprencion del codigo, considertandolo como un lenguaje de alto nivel, ademas cuenta con un gran soporte y desarrollo por parte de la comunidad, que genera nuevos recurso y aplicaciones, otra gran ventaja es que se puede emplear en cualquier sistema operativo y se puede ejecutar en linea metiante Jpiter Notebook y Google Colaboratory, entre tros...\n",
        "\n",
        "\n",
        "---\n",
        "\n"
      ],
      "metadata": {
        "id": "yGVwxU4XFeLP"
      }
    },
    {
      "cell_type": "code",
      "source": [],
      "metadata": {
        "id": "Sg4UjOoYFdgH"
      },
      "execution_count": null,
      "outputs": []
    },
    {
      "cell_type": "markdown",
      "source": [
        "## Tipos de Datos\n",
        "* Integer (o enteros)\n",
        "* Float (decimales)\n",
        "* Strings (cadenas de caracteres)\n",
        "* Booleans (Verdadero o Falso)\n",
        "\n",
        "Para conocer el tipo de dato a la cual pertenece una variable, debemos utilizar la funcion `type()`."
      ],
      "metadata": {
        "id": "SVo6D_MEDXAE"
      }
    },
    {
      "cell_type": "code",
      "execution_count": null,
      "metadata": {
        "colab": {
          "base_uri": "https://localhost:8080/"
        },
        "id": "c8SZJc0VUP_M",
        "outputId": "e75887f9-762b-4e38-d561-abbf9b15f98e"
      },
      "outputs": [
        {
          "output_type": "stream",
          "name": "stdout",
          "text": [
            "hola Mundo\n"
          ]
        }
      ],
      "source": [
        "print(\"hola Mundo\")"
      ]
    },
    {
      "cell_type": "code",
      "source": [],
      "metadata": {
        "id": "PKFld2MdWov7"
      },
      "execution_count": null,
      "outputs": []
    }
  ]
}
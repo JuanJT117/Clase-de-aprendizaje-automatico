{
  "nbformat": 4,
  "nbformat_minor": 0,
  "metadata": {
    "colab": {
      "provenance": [],
      "authorship_tag": "ABX9TyNMMpzHdNm3KpfuBr88Js9E",
      "include_colab_link": true
    },
    "kernelspec": {
      "name": "python3",
      "display_name": "Python 3"
    },
    "language_info": {
      "name": "python"
    }
  },
  "cells": [
    {
      "cell_type": "markdown",
      "metadata": {
        "id": "view-in-github",
        "colab_type": "text"
      },
      "source": [
        "<a href=\"https://colab.research.google.com/github/JuanJT117/Clase-de-aprendizaje-automatico/blob/main/clase_1_9_01_23.ipynb\" target=\"_parent\"><img src=\"https://colab.research.google.com/assets/colab-badge.svg\" alt=\"Open In Colab\"/></a>"
      ]
    },
    {
      "cell_type": "markdown",
      "source": [
        "#Clase 1 \n",
        "\n",
        "## UANL | MCD | Aprendizaje Automatico"
      ],
      "metadata": {
        "id": "j7uFgYokWWbV"
      }
    },
    {
      "cell_type": "markdown",
      "source": [
        "# introduccion a phyton\n"
      ],
      "metadata": {
        "id": "ipx73hDzl-Ap"
      }
    },
    {
      "cell_type": "code",
      "execution_count": null,
      "metadata": {
        "colab": {
          "base_uri": "https://localhost:8080/"
        },
        "id": "c8SZJc0VUP_M",
        "outputId": "e75887f9-762b-4e38-d561-abbf9b15f98e"
      },
      "outputs": [
        {
          "output_type": "stream",
          "name": "stdout",
          "text": [
            "hola Mundo\n"
          ]
        }
      ],
      "source": [
        "print(\"hola Mundo\")"
      ]
    },
    {
      "cell_type": "code",
      "source": [],
      "metadata": {
        "id": "PKFld2MdWov7"
      },
      "execution_count": null,
      "outputs": []
    }
  ]
}
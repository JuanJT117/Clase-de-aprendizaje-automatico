{
 "cells": [
  {
   "attachments": {},
   "cell_type": "markdown",
   "metadata": {},
   "source": [
    "# Tarea 1 & Tarea 2\n",
    "\n",
    "se trabajaran con datos de observaciones satelitales de la ESA, se captura un fragmento de la descripcion de la database \"Este conjunto de datos contiene fracciones molares de aire seco promedio de columna de dióxido de carbono atmosférico (XCO2), utilizando la recuperación rápida de gases traza atmosféricos para OCO2 (FOCAL-OCO2). El algoritmo FOCAL-OCO2 que se ha configurado para recuperar XCO2 mediante el análisis de mediciones de radiancia retrodispersada solar hiperespectral del satélite Orbiting Carbon Observatory 2 (OCO-2) de la NASA. FOCAL incluye un modelo de transferencia radiativa que se ha desarrollado para aproximar los efectos de dispersión de la luz mediante dispersión múltiple en una capa de dispersión ópticamente delgada. Esto reduce los costes computacionales en varios órdenes de magnitud. El modelo de transferencia radiativa de FOCAL se utiliza para simular la radiación en las tres bandas espectrales de OCO-2, lo que permite la recuperación simultánea de CO2, H2O y fluorescencia de clorofila inducida por la luz solar. El producto está limitado a escenas sin nubes en el lado diurno de la Tierra. Este conjunto de datos también se conoce como CO2_OC2_FOCA. Esta versión de los datos (v10) se produjo como parte del proyecto de Gases de Efecto Invernadero (GEI) de la Iniciativa de Cambio Climático (CCI) de la Agencia Espacial Europea (ESA)  Citable as:  Reuter, M.; Hilker, M.; Noël, S.; Buchwitz, M.; Schneising, O.; Bovensmann, H.; Burrows, J.P. (2022): ESA Greenhouse Gases Climate Change Initiative (GHG_cci): Column averaged carbon dioxide from OCO-2 generated with the FOCAL algorithm, version 10. NERC EDS Centre for Environmental Data Analysis, date of citation. https://catalogue.ceda.ac.uk/uuid/070522ac6a5d4973a95c544beef714b4\" (https://catalogue.ceda.ac.uk/uuid/070522ac6a5d4973a95c544beef714b4)"
   ]
  },
  {
   "attachments": {},
   "cell_type": "markdown",
   "metadata": {},
   "source": [
    "provicionalmente se empleara una base de datos de Airbnb, en lo que logro obtener la base de datos exacta para mi objetivo\n"
   ]
  },
  {
   "cell_type": "code",
   "execution_count": 15,
   "metadata": {},
   "outputs": [
    {
     "ename": "ModuleNotFoundError",
     "evalue": "No module named 'pandas'",
     "output_type": "error",
     "traceback": [
      "\u001b[1;31m---------------------------------------------------------------------------\u001b[0m",
      "\u001b[1;31mModuleNotFoundError\u001b[0m                       Traceback (most recent call last)",
      "Cell \u001b[1;32mIn[15], line 1\u001b[0m\n\u001b[1;32m----> 1\u001b[0m \u001b[39mimport\u001b[39;00m \u001b[39mpandas\u001b[39;00m \u001b[39mas\u001b[39;00m \u001b[39mpd\u001b[39;00m \n\u001b[0;32m      3\u001b[0m \u001b[39mfrom\u001b[39;00m \u001b[39mIPython\u001b[39;00m\u001b[39m.\u001b[39;00m\u001b[39mdisplay\u001b[39;00m \u001b[39mimport\u001b[39;00m Markdown\n",
      "\u001b[1;31mModuleNotFoundError\u001b[0m: No module named 'pandas'"
     ]
    }
   ],
   "source": [
    "import pandas as pd \n",
    "\n",
    "from IPython.display import Markdown\n"
   ]
  },
  {
   "cell_type": "code",
   "execution_count": null,
   "metadata": {},
   "outputs": [],
   "source": []
  }
 ],
 "metadata": {
  "kernelspec": {
   "display_name": "Python 3.10.7 64-bit",
   "language": "python",
   "name": "python3"
  },
  "language_info": {
   "codemirror_mode": {
    "name": "ipython",
    "version": 3
   },
   "file_extension": ".py",
   "mimetype": "text/x-python",
   "name": "python",
   "nbconvert_exporter": "python",
   "pygments_lexer": "ipython3",
   "version": "3.10.7"
  },
  "orig_nbformat": 4,
  "vscode": {
   "interpreter": {
    "hash": "72240fc993f859ecf4c18103aa4b301617d5a71df6eebcda91075cc5a938e81d"
   }
  }
 },
 "nbformat": 4,
 "nbformat_minor": 2
}

{
 "cells": [
  {
   "attachments": {},
   "cell_type": "markdown",
   "metadata": {},
   "source": [
    "# Tarea 1 & Tarea 2\n",
    "\n",
    "se trabajaran con datos de observaciones satelitales de la ESA, se captura un fragmento de la descripcion de la database \"Este conjunto de datos contiene fracciones molares de aire seco promedio de columna de dióxido de carbono atmosférico (XCO2), utilizando la recuperación rápida de gases traza atmosféricos para OCO2 (FOCAL-OCO2). El algoritmo FOCAL-OCO2 que se ha configurado para recuperar XCO2 mediante el análisis de mediciones de radiancia retrodispersada solar hiperespectral del satélite Orbiting Carbon Observatory 2 (OCO-2) de la NASA. FOCAL incluye un modelo de transferencia radiativa que se ha desarrollado para aproximar los efectos de dispersión de la luz mediante dispersión múltiple en una capa de dispersión ópticamente delgada. Esto reduce los costes computacionales en varios órdenes de magnitud. El modelo de transferencia radiativa de FOCAL se utiliza para simular la radiación en las tres bandas espectrales de OCO-2, lo que permite la recuperación simultánea de CO2, H2O y fluorescencia de clorofila inducida por la luz solar. El producto está limitado a escenas sin nubes en el lado diurno de la Tierra. Este conjunto de datos también se conoce como CO2_OC2_FOCA. Esta versión de los datos (v10) se produjo como parte del proyecto de Gases de Efecto Invernadero (GEI) de la Iniciativa de Cambio Climático (CCI) de la Agencia Espacial Europea (ESA)  Citable as:  Reuter, M.; Hilker, M.; Noël, S.; Buchwitz, M.; Schneising, O.; Bovensmann, H.; Burrows, J.P. (2022): ESA Greenhouse Gases Climate Change Initiative (GHG_cci): Column averaged carbon dioxide from OCO-2 generated with the FOCAL algorithm, version 10. NERC EDS Centre for Environmental Data Analysis, date of citation. https://catalogue.ceda.ac.uk/uuid/070522ac6a5d4973a95c544beef714b4\" (https://catalogue.ceda.ac.uk/uuid/070522ac6a5d4973a95c544beef714b4)"
   ]
  },
  {
   "attachments": {},
   "cell_type": "markdown",
   "metadata": {},
   "source": [
    "provicionalmente se empleara una base de datos de Airbnb, en lo que logro obtener la base de datos exacta para mi objetivo\n"
   ]
  },
  {
   "cell_type": "code",
   "execution_count": 1,
   "metadata": {},
   "outputs": [],
   "source": [
    "import pandas as pd \n",
    "\n",
    "from IPython.display import Markdown\n"
   ]
  },
  {
   "attachments": {},
   "cell_type": "markdown",
   "metadata": {},
   "source": [
    "vamos a crear un arreglo diccionario para verlo en Latex"
   ]
  },
  {
   "cell_type": "code",
   "execution_count": 2,
   "metadata": {},
   "outputs": [],
   "source": [
    "pollutants = [\n",
    "    {\n",
    "        'name' :'$\\\\text{PM}_{10}$',\n",
    "        'min_value' : 2,\n",
    "        'max_value' : 850,\n",
    "        'unit' : '$\\mu\\\\text{gr}$ / $\\\\text{m}^3$'\n",
    "    },\n",
    "    {\n",
    "        'name' :'$\\\\text{PM}_{2.5}$',\n",
    "        'min_value' : 2,\n",
    "        'max_value' : 850,\n",
    "        'unit' : '$\\mu\\\\text{gr}$ / $\\\\text{m}^3$'\n",
    "    },\n",
    "    {\n",
    "        'name' :'$\\\\text{O}_3$',\n",
    "        'min_value' : 2,\n",
    "        'max_value' : 200,\n",
    "        'unit' : 'ppm'\n",
    "    },\n",
    "    {\n",
    "        'name' :'NO',\n",
    "        'min_value' : 1,\n",
    "        'max_value' : 350,\n",
    "        'unit' : 'ppm'\n",
    "    },\n",
    "    {\n",
    "        'name' :'$\\\\text{NO}_2$',\n",
    "        'min_value' : 1,\n",
    "        'max_value' : 150,\n",
    "        'unit' : 'ppm'\n",
    "    },\n",
    "    {\n",
    "        'name' :'$\\\\text{NO}_X$',\n",
    "        'min_value' : 1,\n",
    "        'max_value' : 350,\n",
    "        'unit' : 'ppm'\n",
    "    },\n",
    "    {\n",
    "        'name' :'$\\\\text{SO}_2$',\n",
    "        'min_value' : 1,\n",
    "        'max_value' : 200,\n",
    "        'unit' : 'ppm'\n",
    "    },\n",
    "    {\n",
    "        'name' :'CO',\n",
    "        'min_value' : 0.050,\n",
    "        'max_value' : 15,\n",
    "        'unit' : 'ppm'\n",
    "    },\n",
    "    {\n",
    "        'name' :'Temperature',\n",
    "        'min_value' : -15,\n",
    "        'max_value' : 50,\n",
    "        'unit' : '°C'\n",
    "    },\n",
    "    {\n",
    "        'name' :'Relative humidity',\n",
    "        'min_value' : 0,\n",
    "        'max_value' : 100,\n",
    "        'unit' : '%'\n",
    "    },\n",
    "    {\n",
    "        'name' :'Barometric pressure',\n",
    "        'min_value' : 650,\n",
    "        'max_value' : 750,\n",
    "        'unit' : 'mmHg'\n",
    "    },\n",
    "    {\n",
    "        'name' :'Solar radiation',\n",
    "        'min_value' : 0,\n",
    "        'max_value' : 1.2,\n",
    "        'unit' : 'Langley / h'\n",
    "    },\n",
    "    {\n",
    "        'name' :'Rainfall',\n",
    "        'min_value' : 0,\n",
    "        'max_value' : 789,\n",
    "        'unit' : 'mm/h'\n",
    "    },\n",
    "]"
   ]
  },
  {
   "cell_type": "code",
   "execution_count": 6,
   "metadata": {},
   "outputs": [
    {
     "data": {
      "text/html": [
       "<div>\n",
       "<style scoped>\n",
       "    .dataframe tbody tr th:only-of-type {\n",
       "        vertical-align: middle;\n",
       "    }\n",
       "\n",
       "    .dataframe tbody tr th {\n",
       "        vertical-align: top;\n",
       "    }\n",
       "\n",
       "    .dataframe thead th {\n",
       "        text-align: right;\n",
       "    }\n",
       "</style>\n",
       "<table border=\"1\" class=\"dataframe\">\n",
       "  <thead>\n",
       "    <tr style=\"text-align: right;\">\n",
       "      <th></th>\n",
       "      <th>name</th>\n",
       "      <th>min_value</th>\n",
       "      <th>max_value</th>\n",
       "      <th>unit</th>\n",
       "    </tr>\n",
       "  </thead>\n",
       "  <tbody>\n",
       "    <tr>\n",
       "      <th>0</th>\n",
       "      <td>$\\text{PM}_{10}$</td>\n",
       "      <td>2.00</td>\n",
       "      <td>850.0</td>\n",
       "      <td>$\\mu\\text{gr}$ / $\\text{m}^3$</td>\n",
       "    </tr>\n",
       "    <tr>\n",
       "      <th>1</th>\n",
       "      <td>$\\text{PM}_{2.5}$</td>\n",
       "      <td>2.00</td>\n",
       "      <td>850.0</td>\n",
       "      <td>$\\mu\\text{gr}$ / $\\text{m}^3$</td>\n",
       "    </tr>\n",
       "    <tr>\n",
       "      <th>2</th>\n",
       "      <td>$\\text{O}_3$</td>\n",
       "      <td>2.00</td>\n",
       "      <td>200.0</td>\n",
       "      <td>ppm</td>\n",
       "    </tr>\n",
       "    <tr>\n",
       "      <th>3</th>\n",
       "      <td>NO</td>\n",
       "      <td>1.00</td>\n",
       "      <td>350.0</td>\n",
       "      <td>ppm</td>\n",
       "    </tr>\n",
       "    <tr>\n",
       "      <th>4</th>\n",
       "      <td>$\\text{NO}_2$</td>\n",
       "      <td>1.00</td>\n",
       "      <td>150.0</td>\n",
       "      <td>ppm</td>\n",
       "    </tr>\n",
       "    <tr>\n",
       "      <th>5</th>\n",
       "      <td>$\\text{NO}_X$</td>\n",
       "      <td>1.00</td>\n",
       "      <td>350.0</td>\n",
       "      <td>ppm</td>\n",
       "    </tr>\n",
       "    <tr>\n",
       "      <th>6</th>\n",
       "      <td>$\\text{SO}_2$</td>\n",
       "      <td>1.00</td>\n",
       "      <td>200.0</td>\n",
       "      <td>ppm</td>\n",
       "    </tr>\n",
       "    <tr>\n",
       "      <th>7</th>\n",
       "      <td>CO</td>\n",
       "      <td>0.05</td>\n",
       "      <td>15.0</td>\n",
       "      <td>ppm</td>\n",
       "    </tr>\n",
       "    <tr>\n",
       "      <th>8</th>\n",
       "      <td>Temperature</td>\n",
       "      <td>-15.00</td>\n",
       "      <td>50.0</td>\n",
       "      <td>°C</td>\n",
       "    </tr>\n",
       "    <tr>\n",
       "      <th>9</th>\n",
       "      <td>Relative humidity</td>\n",
       "      <td>0.00</td>\n",
       "      <td>100.0</td>\n",
       "      <td>%</td>\n",
       "    </tr>\n",
       "    <tr>\n",
       "      <th>10</th>\n",
       "      <td>Barometric pressure</td>\n",
       "      <td>650.00</td>\n",
       "      <td>750.0</td>\n",
       "      <td>mmHg</td>\n",
       "    </tr>\n",
       "    <tr>\n",
       "      <th>11</th>\n",
       "      <td>Solar radiation</td>\n",
       "      <td>0.00</td>\n",
       "      <td>1.2</td>\n",
       "      <td>Langley / h</td>\n",
       "    </tr>\n",
       "    <tr>\n",
       "      <th>12</th>\n",
       "      <td>Rainfall</td>\n",
       "      <td>0.00</td>\n",
       "      <td>789.0</td>\n",
       "      <td>mm/h</td>\n",
       "    </tr>\n",
       "  </tbody>\n",
       "</table>\n",
       "</div>"
      ],
      "text/plain": [
       "                   name  min_value  max_value                           unit\n",
       "0      $\\text{PM}_{10}$       2.00      850.0  $\\mu\\text{gr}$ / $\\text{m}^3$\n",
       "1     $\\text{PM}_{2.5}$       2.00      850.0  $\\mu\\text{gr}$ / $\\text{m}^3$\n",
       "2          $\\text{O}_3$       2.00      200.0                            ppm\n",
       "3                    NO       1.00      350.0                            ppm\n",
       "4         $\\text{NO}_2$       1.00      150.0                            ppm\n",
       "5         $\\text{NO}_X$       1.00      350.0                            ppm\n",
       "6         $\\text{SO}_2$       1.00      200.0                            ppm\n",
       "7                    CO       0.05       15.0                            ppm\n",
       "8           Temperature     -15.00       50.0                             °C\n",
       "9     Relative humidity       0.00      100.0                              %\n",
       "10  Barometric pressure     650.00      750.0                           mmHg\n",
       "11      Solar radiation       0.00        1.2                    Langley / h\n",
       "12             Rainfall       0.00      789.0                           mm/h"
      ]
     },
     "execution_count": 6,
     "metadata": {},
     "output_type": "execute_result"
    }
   ],
   "source": [
    "df_pollutants_def"
   ]
  },
  {
   "cell_type": "code",
   "execution_count": 5,
   "metadata": {},
   "outputs": [
    {
     "data": {
      "text/markdown": [
       "| name                |   min_value |   max_value | unit                          |\n",
       "|:--------------------|------------:|------------:|:------------------------------|\n",
       "| $\\text{PM}_{10}$    |        2    |       850   | $\\mu\\text{gr}$ / $\\text{m}^3$ |\n",
       "| $\\text{PM}_{2.5}$   |        2    |       850   | $\\mu\\text{gr}$ / $\\text{m}^3$ |\n",
       "| $\\text{O}_3$        |        2    |       200   | ppm                           |\n",
       "| NO                  |        1    |       350   | ppm                           |\n",
       "| $\\text{NO}_2$       |        1    |       150   | ppm                           |\n",
       "| $\\text{NO}_X$       |        1    |       350   | ppm                           |\n",
       "| $\\text{SO}_2$       |        1    |       200   | ppm                           |\n",
       "| CO                  |        0.05 |        15   | ppm                           |\n",
       "| Temperature         |      -15    |        50   | °C                            |\n",
       "| Relative humidity   |        0    |       100   | %                             |\n",
       "| Barometric pressure |      650    |       750   | mmHg                          |\n",
       "| Solar radiation     |        0    |         1.2 | Langley / h                   |\n",
       "| Rainfall            |        0    |       789   | mm/h                          |"
      ],
      "text/plain": [
       "<IPython.core.display.Markdown object>"
      ]
     },
     "metadata": {},
     "output_type": "display_data"
    }
   ],
   "source": [
    "df_pollutants_def = pd.DataFrame(pollutants)\n",
    "display(Markdown(df_pollutants_def.to_markdown(index=False)))"
   ]
  },
  {
   "cell_type": "code",
   "execution_count": 21,
   "metadata": {},
   "outputs": [
    {
     "name": "stderr",
     "output_type": "stream",
     "text": [
      "C:\\Users\\juanj\\AppData\\Local\\Temp\\ipykernel_32484\\624610994.py:1: DtypeWarning: Columns (25) have mixed types. Specify dtype option on import or set low_memory=False.\n",
      "  df_airbnb = pd.read_csv(\"../base de datos provicional/Airbnb_Open_Data.csv\")\n"
     ]
    }
   ],
   "source": [
    "df_airbnb = pd.read_csv(\"../base de datos provicional/Airbnb_Open_Data.csv\")"
   ]
  },
  {
   "cell_type": "code",
   "execution_count": 23,
   "metadata": {},
   "outputs": [
    {
     "name": "stdout",
     "output_type": "stream",
     "text": [
      "<class 'pandas.core.frame.DataFrame'>\n",
      "RangeIndex: 102599 entries, 0 to 102598\n",
      "Data columns (total 26 columns):\n",
      " #   Column                          Non-Null Count   Dtype  \n",
      "---  ------                          --------------   -----  \n",
      " 0   id                              102599 non-null  int64  \n",
      " 1   name                            102349 non-null  object \n",
      " 2   host_id                         102599 non-null  int64  \n",
      " 3   host_identity_verified          102310 non-null  object \n",
      " 4   host_name                       102193 non-null  object \n",
      " 5   neighbourhood_group             102570 non-null  object \n",
      " 6   neighbourhood                   102583 non-null  object \n",
      " 7   lat                             102591 non-null  float64\n",
      " 8   long                            102591 non-null  float64\n",
      " 9   country                         102067 non-null  object \n",
      " 10  country_code                    102468 non-null  object \n",
      " 11  instant_bookable                102494 non-null  object \n",
      " 12  cancellation_policy             102523 non-null  object \n",
      " 13  room_type                       102599 non-null  object \n",
      " 14  Construction_year               102385 non-null  float64\n",
      " 15  price                           102352 non-null  object \n",
      " 16  service_fee                     102326 non-null  object \n",
      " 17  minimum_nights                  102190 non-null  float64\n",
      " 18  number_of_reviews               102416 non-null  float64\n",
      " 19  last_review                     86706 non-null   object \n",
      " 20  reviews_per_month               86720 non-null   float64\n",
      " 21  review_rate_number              102273 non-null  float64\n",
      " 22  calculated_host_listings_count  102280 non-null  float64\n",
      " 23  availability_365                102151 non-null  float64\n",
      " 24  house_rules                     50468 non-null   object \n",
      " 25  Unnamed: 25                     2 non-null       object \n",
      "dtypes: float64(9), int64(2), object(15)\n",
      "memory usage: 20.4+ MB\n"
     ]
    }
   ],
   "source": [
    "df_airbnb.info()"
   ]
  },
  {
   "cell_type": "code",
   "execution_count": 24,
   "metadata": {},
   "outputs": [],
   "source": [
    "from datetime import datetime\n",
    "custom_date_parser = lambda x: datetime.strftime(x, '%d-%b-%y %H')"
   ]
  }
 ],
 "metadata": {
  "kernelspec": {
   "display_name": "Python 3",
   "language": "python",
   "name": "python3"
  },
  "language_info": {
   "codemirror_mode": {
    "name": "ipython",
    "version": 3
   },
   "file_extension": ".py",
   "mimetype": "text/x-python",
   "name": "python",
   "nbconvert_exporter": "python",
   "pygments_lexer": "ipython3",
   "version": "3.10.9"
  },
  "orig_nbformat": 4,
  "vscode": {
   "interpreter": {
    "hash": "2aafc0b35218c569f6f820bf5fc8b8708abacfd3d8ab40aaf90f6fd73f5e18cf"
   }
  }
 },
 "nbformat": 4,
 "nbformat_minor": 2
}

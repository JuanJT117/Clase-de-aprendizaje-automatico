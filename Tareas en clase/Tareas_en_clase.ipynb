{
  "cells": [
    {
      "cell_type": "markdown",
      "metadata": {
        "colab_type": "text",
        "id": "view-in-github"
      },
      "source": [
        "<a href=\"https://colab.research.google.com/github/JuanJT117/Clase-de-aprendizaje-automatico/blob/main/clase_1_9_01_23.ipynb\" target=\"_parent\"><img src=\"https://colab.research.google.com/assets/colab-badge.svg\" alt=\"Open In Colab\"/></a>"
      ]
    },
    {
      "cell_type": "markdown",
      "metadata": {
        "id": "j7uFgYokWWbV"
      },
      "source": [
        "#Clase 1 \n",
        "\n",
        "## UANL | MCD | Aprendizaje Automatico"
      ]
    },
    {
      "cell_type": "markdown",
      "metadata": {
        "id": "ipx73hDzl-Ap"
      },
      "source": [
        "# introduccion a phyton\n"
      ]
    },
    {
      "cell_type": "markdown",
      "metadata": {
        "id": "yGVwxU4XFeLP"
      },
      "source": [
        "### ¿Que es Phyton?\n",
        "\n",
        "Python es un lenguaje de programaqcion ampliamente ultilizado en las aplicaciones web, en el desarrollo de software, en la CIENCIA DE DATOS, debido a su eficiencia, facilidad, es gratuito y ademas de que es facil de aprender, ya que su sintaxis facilita la comprencion del codigo, considertandolo como un lenguaje de alto nivel, ademas cuenta con un gran soporte y desarrollo por parte de la comunidad, que genera nuevos recurso y aplicaciones, otra gran ventaja es que se puede emplear en cualquier sistema operativo y se puede ejecutar en linea metiante Jpiter Notebook y Google Colaboratory, entre tros...\n",
        "\n",
        "\n",
        "---\n",
        "\n"
      ]
    },
    {
      "cell_type": "markdown",
      "metadata": {
        "id": "SVo6D_MEDXAE"
      },
      "source": [
        "## Tipos de Datos\n",
        "* Integer (o enteros)\n",
        "* Float (decimales)\n",
        "* Strings (cadenas de caracteres)\n",
        "* Booleans (Verdadero o Falso)\n",
        "\n",
        "Para conocer el tipo de dato a la cual pertenece una variable, debemos utilizar la funcion `type()`."
      ]
    },
    {
      "cell_type": "code",
      "execution_count": 2,
      "metadata": {
        "colab": {
          "base_uri": "https://localhost:8080/"
        },
        "id": "c8SZJc0VUP_M",
        "outputId": "e75887f9-762b-4e38-d561-abbf9b15f98e"
      },
      "outputs": [
        {
          "name": "stdout",
          "output_type": "stream",
          "text": [
            "hola Mundo\n"
          ]
        }
      ],
      "source": [
        "print(\"hola Mundo\")"
      ]
    },
    {
      "attachments": {},
      "cell_type": "markdown",
      "metadata": {},
      "source": [
        "# Tarea en clase 1\n",
        "\n",
        "Cargar conjunto de datos mediante pandas\n",
        "\n",
        "Especificar el tipo de datos de cada columna\n",
        "\n",
        "Si es necesario, asignar una columna como índice"
      ]
    },
    {
      "cell_type": "markdown",
      "metadata": {},
      "source": []
    },
    {
      "attachments": {},
      "cell_type": "markdown",
      "metadata": {},
      "source": [
        "# Tarea en clase 2\n",
        "\n",
        "Crear funciones para calcular las medidas de tendencia central y de dispersión con Python puro (sin librerías)\n",
        "Comprueba si tus variables de interés son conjuntos de datos paramétricos o no paramétricos\n"
      ]
    },
    {
      "cell_type": "code",
      "execution_count": 39,
      "metadata": {},
      "outputs": [],
      "source": [
        "import pandas as pd \n",
        "\n",
        "from IPython.display import Markdown\n",
        "\n",
        "import numpy as np\n",
        "\n",
        "import math"
      ]
    },
    {
      "cell_type": "code",
      "execution_count": 40,
      "metadata": {},
      "outputs": [
        {
          "name": "stdout",
          "output_type": "stream",
          "text": [
            "<class 'pandas.core.frame.DataFrame'>\n",
            "RangeIndex: 647 entries, 0 to 646\n",
            "Data columns (total 25 columns):\n",
            " #   Column    Non-Null Count  Dtype  \n",
            "---  ------    --------------  -----  \n",
            " 0   sitio     647 non-null    object \n",
            " 1   OPERADOR  647 non-null    object \n",
            " 2   FECHA     647 non-null    object \n",
            " 3   ZONA      647 non-null    object \n",
            " 4   ESTE      647 non-null    float64\n",
            " 5   NORTE     647 non-null    float64\n",
            " 6   ALTITUD   647 non-null    int64  \n",
            " 7   Z         647 non-null    float64\n",
            " 8   K         647 non-null    float64\n",
            " 9   AB/2      647 non-null    float64\n",
            " 10  AB        647 non-null    int64  \n",
            " 11  MN/2      647 non-null    float64\n",
            " 12  MN        647 non-null    float64\n",
            " 13  Pn1       647 non-null    float64\n",
            " 14  Pi1       647 non-null    float64\n",
            " 15  I1        647 non-null    float64\n",
            " 16  Pn2       647 non-null    float64\n",
            " 17  Pi2       647 non-null    float64\n",
            " 18  I2        647 non-null    float64\n",
            " 19  Pn3       647 non-null    float64\n",
            " 20  Pi3       646 non-null    float64\n",
            " 21  I3        647 non-null    float64\n",
            " 22  Rha.1     645 non-null    float64\n",
            " 23  Rha.2     644 non-null    object \n",
            " 24  Real-Rha  647 non-null    float64\n",
            "dtypes: float64(18), int64(2), object(5)\n",
            "memory usage: 126.5+ KB\n"
          ]
        }
      ],
      "source": [
        "BD_RST = pd.read_csv(\"../Base de Datos Resisterra/DB-RST.csv\")\n",
        "\n",
        "DB_copy = BD_RST.copy()\n",
        "\n",
        "#DB_copy.info()\n",
        "\n",
        "DB_copy.drop(columns = ['AB/5', 'AB/20', 'PPn', 'PPi', 'PU', 'PI', 'Rha', 'Rha', 'Rha', 'Prom-Rha'], inplace = True)\n",
        "\n",
        "DB_copy.info()"
      ]
    },
    {
      "cell_type": "code",
      "execution_count": 41,
      "metadata": {},
      "outputs": [
        {
          "name": "stdout",
          "output_type": "stream",
          "text": [
            "<class 'pandas.core.frame.DataFrame'>\n",
            "RangeIndex: 647 entries, 0 to 646\n",
            "Data columns (total 33 columns):\n",
            " #   Column    Non-Null Count  Dtype  \n",
            "---  ------    --------------  -----  \n",
            " 0   sitio     647 non-null    object \n",
            " 1   OPERADOR  647 non-null    object \n",
            " 2   FECHA     647 non-null    object \n",
            " 3   ZONA      647 non-null    object \n",
            " 4   ESTE      647 non-null    float64\n",
            " 5   NORTE     647 non-null    float64\n",
            " 6   ALTITUD   647 non-null    int64  \n",
            " 7   Z         647 non-null    float64\n",
            " 8   K         647 non-null    float64\n",
            " 9   AB/2      647 non-null    float64\n",
            " 10  AB        647 non-null    int64  \n",
            " 11  MN/2      647 non-null    float64\n",
            " 12  AB/5      647 non-null    float64\n",
            " 13  MN        647 non-null    float64\n",
            " 14  AB/20     647 non-null    float64\n",
            " 15  Pn1       647 non-null    float64\n",
            " 16  Pi1       647 non-null    float64\n",
            " 17  I1        647 non-null    float64\n",
            " 18  Pn2       647 non-null    float64\n",
            " 19  Pi2       647 non-null    float64\n",
            " 20  I2        647 non-null    float64\n",
            " 21  Pn3       647 non-null    float64\n",
            " 22  Pi3       646 non-null    float64\n",
            " 23  I3        647 non-null    float64\n",
            " 24  PPn       645 non-null    float64\n",
            " 25  PPi       645 non-null    float64\n",
            " 26  PU        645 non-null    float64\n",
            " 27  PI        645 non-null    float64\n",
            " 28  Rha       645 non-null    float64\n",
            " 29  Rha.1     645 non-null    float64\n",
            " 30  Rha.2     644 non-null    object \n",
            " 31  Prom-Rha  647 non-null    object \n",
            " 32  Real-Rha  647 non-null    float64\n",
            "dtypes: float64(25), int64(2), object(6)\n",
            "memory usage: 166.9+ KB\n"
          ]
        }
      ],
      "source": [
        "BD_RST.info()"
      ]
    },
    {
      "cell_type": "code",
      "execution_count": 42,
      "metadata": {},
      "outputs": [],
      "source": [
        "res_geo = DB_copy.loc[0:646,['sitio','ESTE','NORTE','ALTITUD','Z','AB','MN','Real-Rha']]\n",
        "\n",
        "res_geo_copy = res_geo.copy()\n",
        "\n",
        "res_geo_copy.rename(columns={'Real-Rha':'res_ap'},inplace=True)"
      ]
    },
    {
      "cell_type": "code",
      "execution_count": 43,
      "metadata": {},
      "outputs": [],
      "source": [
        "##llamamos cada colubna que trabajaremos\n",
        "pro_exploracion = res_geo_copy.Z\n",
        "apertura_ab = res_geo_copy.AB \n",
        "apertura_mn = res_geo_copy.MN \n",
        "resisitividad = res_geo_copy.res_ap\n",
        "## eliminamos las posiciones que precentan ceros para evitar influir en la estadistica\n",
        "#pro_exploracion.fillna(0, inplace=True) #---> no fue  necesario hacerlo\n",
        "\n",
        "## generamos listas de cada columna\n",
        "list_pro_exploracion = list(pro_exploracion)\n",
        "list_apertura_ab = list(apertura_ab)\n",
        "list_pertura_mn = list(apertura_mn)\n",
        "list_resisitividad = list(resisitividad)\n"
      ]
    },
    {
      "cell_type": "code",
      "execution_count": 44,
      "metadata": {},
      "outputs": [
        {
          "name": "stdout",
          "output_type": "stream",
          "text": [
            "43.88098918083462\n",
            "324    60.0\n",
            "Name: Z, dtype: float64\n",
            "2998.8564296276477\n",
            "54.76181543400153\n"
          ]
        }
      ],
      "source": [
        "## Profundidad de Exploracion\n",
        "\n",
        "media = int(sum(list_pro_exploracion))/int(len(round(pro_exploracion)))\n",
        "\n",
        "mediana = pro_exploracion[round(len(pro_exploracion)/2):round(len(pro_exploracion)/2)+1]\n",
        "\n",
        "#des_estandar = math.sqrt(int(list_nights_ocupation-media)**2/(round(len(nights_ocupation)/2)-1))\n",
        "\n",
        "varianza = sum((i-media)**2 for i in list_pro_exploracion) / int(len(round(pro_exploracion)))\n",
        "\n",
        "desv_estandar = math.sqrt(varianza)\n",
        "\n",
        "print(media)\n",
        "print(mediana)\n",
        "print(varianza)\n",
        "print(desv_estandar)"
      ]
    },
    {
      "cell_type": "code",
      "execution_count": 45,
      "metadata": {},
      "outputs": [
        {
          "name": "stdout",
          "output_type": "stream",
          "text": [
            "<class 'pandas.core.series.Series'>\n",
            "RangeIndex: 647 entries, 0 to 646\n",
            "Series name: Z\n",
            "Non-Null Count  Dtype  \n",
            "--------------  -----  \n",
            "647 non-null    float64\n",
            "dtypes: float64(1)\n",
            "memory usage: 5.2 KB\n"
          ]
        }
      ],
      "source": [
        "pro_exploracion.info()"
      ]
    },
    {
      "cell_type": "code",
      "execution_count": 46,
      "metadata": {},
      "outputs": [
        {
          "name": "stdout",
          "output_type": "stream",
          "text": [
            "146.27047913446677\n",
            "324    200\n",
            "Name: AB, dtype: int64\n",
            "33320.62699559732\n",
            "182.53938477927804\n"
          ]
        }
      ],
      "source": [
        "## Apertura AB\n",
        "\n",
        "media2 = int(sum(list_apertura_ab))/int(len(round(apertura_ab)))\n",
        "\n",
        "mediana2 = apertura_ab[round(len(apertura_ab)/2):round(len(apertura_ab)/2)+1]\n",
        "\n",
        "#des_estandar = math.sqrt(int(list_nights_ocupation-media)**2/(round(len(nights_ocupation)/2)-1))\n",
        "\n",
        "varianza2 = sum((i-media2)**2 for i in list_apertura_ab) / int(len(round(apertura_ab)))\n",
        "\n",
        "desv_estandar2 = math.sqrt(varianza2)\n",
        "\n",
        "print(media2)\n",
        "print(mediana2)\n",
        "print(varianza2)\n",
        "print(desv_estandar2)"
      ]
    },
    {
      "attachments": {},
      "cell_type": "markdown",
      "metadata": {},
      "source": [
        "generaremos las distribuciones normales para saber si son datos parametricos o no parametricos\n",
        "\n",
        "PIP INSTALL MATPLOTLIB ----> EN TERMINAL"
      ]
    },
    {
      "cell_type": "code",
      "execution_count": 47,
      "metadata": {},
      "outputs": [
        {
          "data": {
            "text/plain": [
              "(array([179.,  52.,  45.,  43.,  39.,  26.,  49.,  19.,  29.,  38.,   9.,\n",
              "         15.,  13.,   7.,  15.,   2.,   7.,   2.,   0.,  14.,   0.,   2.,\n",
              "          2.,   2.,   7.,   1.,   0.,   0.,   0.,   9.,   0.,   0.,   0.,\n",
              "          0.,   4.,   0.,   0.,   0.,   0.,   4.,   0.,   0.,   0.,   0.,\n",
              "          7.,   0.,   0.,   0.,   0.,   6.]),\n",
              " array([   2.  ,   21.96,   41.92,   61.88,   81.84,  101.8 ,  121.76,\n",
              "         141.72,  161.68,  181.64,  201.6 ,  221.56,  241.52,  261.48,\n",
              "         281.44,  301.4 ,  321.36,  341.32,  361.28,  381.24,  401.2 ,\n",
              "         421.16,  441.12,  461.08,  481.04,  501.  ,  520.96,  540.92,\n",
              "         560.88,  580.84,  600.8 ,  620.76,  640.72,  660.68,  680.64,\n",
              "         700.6 ,  720.56,  740.52,  760.48,  780.44,  800.4 ,  820.36,\n",
              "         840.32,  860.28,  880.24,  900.2 ,  920.16,  940.12,  960.08,\n",
              "         980.04, 1000.  ]),\n",
              " <BarContainer object of 50 artists>)"
            ]
          },
          "execution_count": 47,
          "metadata": {},
          "output_type": "execute_result"
        },
        {
          "data": {
            "image/png": "[encoded data removed]",
            "text/plain": [
              "<Figure size 640x480 with 2 Axes>"
            ]
          },
          "metadata": {},
          "output_type": "display_data"
        }
      ],
      "source": [
        "import matplotlib.pyplot as plt\n",
        "import numpy as np\n",
        "from matplotlib import colors\n",
        "from matplotlib.ticker import PercentFormatter\n",
        "\n",
        "fig, axs = plt.subplots(1, 2, sharey=True, tight_layout=True)\n",
        "\n",
        "axs[0].hist(list_pro_exploracion, bins=50)\n",
        "axs[1].hist(list_apertura_ab, bins=50)"
      ]
    },
    {
      "attachments": {},
      "cell_type": "markdown",
      "metadata": {},
      "source": [
        "### conclucion son datos no parametricos"
      ]
    },
    {
      "attachments": {},
      "cell_type": "markdown",
      "metadata": {},
      "source": [
        "# Tarea en clase 3\n",
        "\n",
        "-   Aplica algún método de filtro a tus datos mediante el uso de SelectKBest"
      ]
    },
    {
      "attachments": {},
      "cell_type": "markdown",
      "metadata": {},
      "source": [
        "# Tarea en clase 4\n",
        "\n",
        "-   Investigar sobre algún otro algoritmo no supervisado que pueda usarse en tu código. Da un panorama sobre el modelo matemático que emplea y explica por qué conviene aplicarlo a tus datos. Algunos modelos que no se vieron en clase son Affinity Propagation, BIRCH, DBSCAN, Mean Shift, Nearest Neighbors, OPTICS, Spectral Clustering, TSNE, entre otros\n",
        "-   Investigar otras estrategias para determinar número de grupos en estos algoritmos (como los índices de Calinski-Harabasz o de Davies-Bouldin), elegir la más adecuada al método que elegiste"
      ]
    },
    {
      "attachments": {},
      "cell_type": "markdown",
      "metadata": {},
      "source": [
        "# Tarea en Clase 5\n",
        "\n",
        "-   plantilla de articulo en latex para trabajo final"
      ]
    },
    {
      "cell_type": "code",
      "execution_count": 48,
      "metadata": {},
      "outputs": [
        {
          "name": "stdout",
          "output_type": "stream",
          "text": [
            "hola mundo\n"
          ]
        }
      ],
      "source": [
        "print('hola mundo')"
      ]
    }
  ],
  "metadata": {
    "colab": {
      "authorship_tag": "ABX9TyOJzotR+8Ji9OmwYEYm7oQJ",
      "include_colab_link": true,
      "provenance": [],
      "toc_visible": true
    },
    "kernelspec": {
      "display_name": "Python 3",
      "language": "python",
      "name": "python3"
    },
    "language_info": {
      "name": "python",
      "version": "3.10.7"
    },
    "vscode": {
      "interpreter": {
        "hash": "72240fc993f859ecf4c18103aa4b301617d5a71df6eebcda91075cc5a938e81d"
      }
    }
  },
  "nbformat": 4,
  "nbformat_minor": 0
}

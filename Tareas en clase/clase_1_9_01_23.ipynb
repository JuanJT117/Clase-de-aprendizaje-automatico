{
  "cells": [
    {
      "cell_type": "markdown",
      "metadata": {
        "colab_type": "text",
        "id": "view-in-github"
      },
      "source": [
        "<a href=\"https://colab.research.google.com/github/JuanJT117/Clase-de-aprendizaje-automatico/blob/main/clase_1_9_01_23.ipynb\" target=\"_parent\"><img src=\"https://colab.research.google.com/assets/colab-badge.svg\" alt=\"Open In Colab\"/></a>"
      ]
    },
    {
      "cell_type": "markdown",
      "metadata": {
        "id": "j7uFgYokWWbV"
      },
      "source": [
        "#Clase 1 \n",
        "\n",
        "## UANL | MCD | Aprendizaje Automatico"
      ]
    },
    {
      "cell_type": "markdown",
      "metadata": {
        "id": "ipx73hDzl-Ap"
      },
      "source": [
        "# introduccion a phyton\n"
      ]
    },
    {
      "cell_type": "markdown",
      "metadata": {
        "id": "yGVwxU4XFeLP"
      },
      "source": [
        "### ¿Que es Phyton?\n",
        "\n",
        "Python es un lenguaje de programaqcion ampliamente ultilizado en las aplicaciones web, en el desarrollo de software, en la CIENCIA DE DATOS, debido a su eficiencia, facilidad, es gratuito y ademas de que es facil de aprender, ya que su sintaxis facilita la comprencion del codigo, considertandolo como un lenguaje de alto nivel, ademas cuenta con un gran soporte y desarrollo por parte de la comunidad, que genera nuevos recurso y aplicaciones, otra gran ventaja es que se puede emplear en cualquier sistema operativo y se puede ejecutar en linea metiante Jpiter Notebook y Google Colaboratory, entre tros...\n",
        "\n",
        "\n",
        "---\n",
        "\n"
      ]
    },
    {
      "cell_type": "markdown",
      "metadata": {
        "id": "SVo6D_MEDXAE"
      },
      "source": [
        "## Tipos de Datos\n",
        "* Integer (o enteros)\n",
        "* Float (decimales)\n",
        "* Strings (cadenas de caracteres)\n",
        "* Booleans (Verdadero o Falso)\n",
        "\n",
        "Para conocer el tipo de dato a la cual pertenece una variable, debemos utilizar la funcion `type()`."
      ]
    },
    {
      "cell_type": "code",
      "execution_count": null,
      "metadata": {
        "colab": {
          "base_uri": "https://localhost:8080/"
        },
        "id": "c8SZJc0VUP_M",
        "outputId": "e75887f9-762b-4e38-d561-abbf9b15f98e"
      },
      "outputs": [
        {
          "name": "stdout",
          "output_type": "stream",
          "text": [
            "hola Mundo\n"
          ]
        }
      ],
      "source": [
        "print(\"hola Mundo\")"
      ]
    },
    {
      "cell_type": "code",
      "execution_count": null,
      "metadata": {
        "id": "PKFld2MdWov7"
      },
      "outputs": [],
      "source": []
    }
  ],
  "metadata": {
    "colab": {
      "authorship_tag": "ABX9TyOJzotR+8Ji9OmwYEYm7oQJ",
      "include_colab_link": true,
      "provenance": [],
      "toc_visible": true
    },
    "kernelspec": {
      "display_name": "Python 3.10.7 64-bit",
      "language": "python",
      "name": "python3"
    },
    "language_info": {
      "name": "python",
      "version": "3.10.7 (tags/v3.10.7:6cc6b13, Sep  5 2022, 14:08:36) [MSC v.1933 64 bit (AMD64)]"
    },
    "vscode": {
      "interpreter": {
        "hash": "72240fc993f859ecf4c18103aa4b301617d5a71df6eebcda91075cc5a938e81d"
      }
    }
  },
  "nbformat": 4,
  "nbformat_minor": 0
}
